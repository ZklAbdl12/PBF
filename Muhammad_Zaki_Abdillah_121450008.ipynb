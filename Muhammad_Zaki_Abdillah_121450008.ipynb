{
  "nbformat": 4,
  "nbformat_minor": 0,
  "metadata": {
    "colab": {
      "provenance": []
    },
    "kernelspec": {
      "name": "python3",
      "display_name": "Python 3"
    },
    "language_info": {
      "name": "python"
    }
  },
  "cells": [
    {
      "cell_type": "markdown",
      "source": [
        "1. Jelaskan menggunakan tabel mengenai kelebihan dan kekurangan paradigma procedural dibandingkan dengan object oriented (minimal 3) !\n",
        "\n",
        "OOP|Prosedural\n",
        "-----|-----\n",
        "Cocok untuk project atau aplikasi yang kompleks|Cocok untuk project atau aplikasi yang sederhana\n",
        "Sedikit sulit dipahami oleh programmer pemula|Mudah dipahami oleh programmer pemula\n",
        "OOP memiliki access modifiers seperti public, protected, dan private.|Prosedural tidak memiliki access modifiers seperti pada OOP\n",
        "OOP lebih aman daripada Prosedural karena  OOP dapat melakukan abstraction dalam penyembunyian data.|Prosedural kurang aman dibandingkan dengan OOP\n"
      ],
      "metadata": {
        "id": "M2NY0pHSH7dl"
      }
    },
    {
      "cell_type": "markdown",
      "source": [
        "2. Jelaskan menggunakan tabel mengenai kelebihan dan kekurangan paradigma object oriented dibandingkan dengan functional (minimal 3) !\n",
        "\n",
        "Prosedural|Fungsional\n",
        "-----------|-----------\n",
        "Pendekatan atau style bersifat umum, sehingga mudah diapply ke bahasa manapun|Harus menggunakan pure function, yang mana harus menerima parameter dan me-return suatu hasil.\n",
        "ungsi - fungsi yang walau sudah dibuat modular, bisa jadi tidak bisa digunakan kembali (tidak reusable)|Function menjadi lebih reusable\n",
        "Pengimplementasian algoritma lebih mudah dengan paradigma prosedural ini.|paradigma ini, agak sulit diimplementasikan karena benar-benar berkutat dengan fungsi.\n",
        "\n"
      ],
      "metadata": {
        "id": "7CaCFc-ZMkXR"
      }
    },
    {
      "cell_type": "markdown",
      "source": [
        "3. Jelaskan menggunakan tabel mengenai kelebihan dan kekurangan\n",
        "paradigma procedural dibandingkan dengan functional (minimal 3) !\n",
        "\n",
        "OOP|Fungsional\n",
        "--------|--------\n",
        "Nalar kode menjadi lebih mudah, karena menganalogikan objek dunia nyata|agak sulit diimplementasikan karena benar-benar berkutat dengan fungsi, dan tidak bisa dinalar ke dunia nyata.\n",
        "Dapat reusable, dengan memanfaatkan class dan method yang telah dibuat|Function menjadi lebih reusable\n",
        "Program yang didevelop dengan OOP bisa menjadi lebih besar, sehingga mempengaruhi memori|Harus menggunakan pure function, yang mana harus menerima parameter dan me-return suatu hasil"
      ],
      "metadata": {
        "id": "VVvDi4xYPcvV"
      }
    },
    {
      "cell_type": "markdown",
      "source": [
        "4. Apa yang dimaksud dengan pure functional programming language?\n",
        "\n",
        "  Functional programming adalah salah satu dari dua paradigma pemrograman utama. Paradigma ini berfokus pada fungsi matematika murni dan data tidak berubah, yaitu data yang tidak dapat diubah setelah dibuat dimana berarti bahwa satu-satunya hal yang berubah dalam program functional adalah input.\n"
      ],
      "metadata": {
        "id": "09eSnu6-REf_"
      }
    },
    {
      "cell_type": "markdown",
      "source": [
        "5. Dari bahasa pemrograman FP di slide sebelumnya ( slide 14 ) , manakah\n",
        "yang termasuk pure functional programming language?\n",
        "\n",
        "\n",
        "\n",
        "*   JavaScript\n",
        "*   Haskell\n",
        "*   Lips\n",
        "*   Scala"
      ],
      "metadata": {
        "id": "RrBifl5DSTR9"
      }
    },
    {
      "cell_type": "markdown",
      "source": [
        "6. Program Enkripsi Password"
      ],
      "metadata": {
        "id": "5Suqftwsb9Ls"
      }
    },
    {
      "cell_type": "code",
      "source": [
        "def encrypt(passwd):\n",
        "    if len(passwd) == 0 or len(passwd) > 100:\n",
        "        print(\"Maaf masukan password dengan benar (dengan rentang 1 - 100)\")\n",
        "    else : \n",
        "        change_ascii = [str(ord(i)) for i in passwd]\n",
        "        open_decrypt = ''.join(chr((int(j)//26)+80)+chr((int(j)%26)+80)+('+' if (int(j)//26)+80 > (int(j)%26)+80 else '-') for j in change_ascii)\n",
        "        print(\"Passwordnya adalah :  \", open_decrypt)\n",
        "\n",
        "def decrypt(passwd):\n",
        "    pswd_split = [(passwd[k:k+3]) for k in range(0, len(passwd), 3)]\n",
        "    open_encrypt = ''.join(chr(((ord(list(z)[0])-80)*26)+(ord(list(z)[1])-80)) for z in pswd_split)\n",
        "    print(\"Passwordnya adalah :  \", open_encrypt)"
      ],
      "metadata": {
        "id": "kagpVTx0WBjh"
      },
      "execution_count": null,
      "outputs": []
    }
  ]
}